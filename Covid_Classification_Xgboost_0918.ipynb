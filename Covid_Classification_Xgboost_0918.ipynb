{
 "cells": [
  {
   "cell_type": "code",
   "execution_count": 1,
   "metadata": {},
   "outputs": [],
   "source": [
    "import pandas as pd\n",
    "import numpy as np\n",
    "import matplotlib.pyplot as plt\n",
    "%matplotlib inline\n",
    "from datetime import datetime, timedelta\n",
    "import seaborn as sns\n",
    "\n",
    "from sklearn.preprocessing import MinMaxScaler\n",
    "from sklearn.model_selection import train_test_split, GridSearchCV, KFold\n",
    "from sklearn.metrics import roc_curve, precision_score, recall_score, f1_score, accuracy_score, auc\n",
    "from xgboost import plot_importance, XGBClassifier\n"
   ]
  },
  {
   "cell_type": "markdown",
   "metadata": {},
   "source": [
    "### Data Modeling"
   ]
  },
  {
   "cell_type": "markdown",
   "metadata": {},
   "source": [
    "#### Normalization : MinMaxScaler"
   ]
  },
  {
   "cell_type": "code",
   "execution_count": 2,
   "metadata": {},
   "outputs": [],
   "source": [
    "d_final = pd.read_csv('d_final.csv', encoding = 'utf-8')"
   ]
  },
  {
   "cell_type": "code",
   "execution_count": 3,
   "metadata": {},
   "outputs": [
    {
     "data": {
      "text/html": [
       "<div>\n",
       "<style scoped>\n",
       "    .dataframe tbody tr th:only-of-type {\n",
       "        vertical-align: middle;\n",
       "    }\n",
       "\n",
       "    .dataframe tbody tr th {\n",
       "        vertical-align: top;\n",
       "    }\n",
       "\n",
       "    .dataframe thead th {\n",
       "        text-align: right;\n",
       "    }\n",
       "</style>\n",
       "<table border=\"1\" class=\"dataframe\">\n",
       "  <thead>\n",
       "    <tr style=\"text-align: right;\">\n",
       "      <th></th>\n",
       "      <th>id</th>\n",
       "      <th>sex</th>\n",
       "      <th>intubed</th>\n",
       "      <th>pneumonia</th>\n",
       "      <th>age</th>\n",
       "      <th>pregnancy</th>\n",
       "      <th>diabetes</th>\n",
       "      <th>copd</th>\n",
       "      <th>asthma</th>\n",
       "      <th>inmsupr</th>\n",
       "      <th>...</th>\n",
       "      <th>tobacco</th>\n",
       "      <th>contact_other_covid</th>\n",
       "      <th>covid_res</th>\n",
       "      <th>icu</th>\n",
       "      <th>DEATH</th>\n",
       "      <th>d_ent</th>\n",
       "      <th>d_sym</th>\n",
       "      <th>d_last</th>\n",
       "      <th>diff_days</th>\n",
       "      <th>age_grp</th>\n",
       "    </tr>\n",
       "  </thead>\n",
       "  <tbody>\n",
       "    <tr>\n",
       "      <th>0</th>\n",
       "      <td>167386</td>\n",
       "      <td>1</td>\n",
       "      <td>2</td>\n",
       "      <td>2</td>\n",
       "      <td>54</td>\n",
       "      <td>2</td>\n",
       "      <td>2</td>\n",
       "      <td>2</td>\n",
       "      <td>2</td>\n",
       "      <td>2</td>\n",
       "      <td>...</td>\n",
       "      <td>2</td>\n",
       "      <td>3</td>\n",
       "      <td>1</td>\n",
       "      <td>2</td>\n",
       "      <td>0</td>\n",
       "      <td>2020-04-06</td>\n",
       "      <td>2020-04-01</td>\n",
       "      <td>2020-06-29</td>\n",
       "      <td>89</td>\n",
       "      <td>3.0</td>\n",
       "    </tr>\n",
       "    <tr>\n",
       "      <th>1</th>\n",
       "      <td>0b5948</td>\n",
       "      <td>2</td>\n",
       "      <td>2</td>\n",
       "      <td>1</td>\n",
       "      <td>30</td>\n",
       "      <td>2</td>\n",
       "      <td>2</td>\n",
       "      <td>2</td>\n",
       "      <td>2</td>\n",
       "      <td>2</td>\n",
       "      <td>...</td>\n",
       "      <td>2</td>\n",
       "      <td>3</td>\n",
       "      <td>1</td>\n",
       "      <td>2</td>\n",
       "      <td>0</td>\n",
       "      <td>2020-04-17</td>\n",
       "      <td>2020-04-10</td>\n",
       "      <td>2020-06-29</td>\n",
       "      <td>80</td>\n",
       "      <td>2.0</td>\n",
       "    </tr>\n",
       "    <tr>\n",
       "      <th>2</th>\n",
       "      <td>0d01b5</td>\n",
       "      <td>1</td>\n",
       "      <td>2</td>\n",
       "      <td>2</td>\n",
       "      <td>60</td>\n",
       "      <td>2</td>\n",
       "      <td>1</td>\n",
       "      <td>2</td>\n",
       "      <td>2</td>\n",
       "      <td>2</td>\n",
       "      <td>...</td>\n",
       "      <td>2</td>\n",
       "      <td>3</td>\n",
       "      <td>1</td>\n",
       "      <td>2</td>\n",
       "      <td>1</td>\n",
       "      <td>2020-04-13</td>\n",
       "      <td>2020-04-13</td>\n",
       "      <td>2020-04-22</td>\n",
       "      <td>9</td>\n",
       "      <td>4.0</td>\n",
       "    </tr>\n",
       "    <tr>\n",
       "      <th>3</th>\n",
       "      <td>1beec8</td>\n",
       "      <td>2</td>\n",
       "      <td>2</td>\n",
       "      <td>1</td>\n",
       "      <td>47</td>\n",
       "      <td>2</td>\n",
       "      <td>1</td>\n",
       "      <td>2</td>\n",
       "      <td>2</td>\n",
       "      <td>2</td>\n",
       "      <td>...</td>\n",
       "      <td>2</td>\n",
       "      <td>3</td>\n",
       "      <td>1</td>\n",
       "      <td>1</td>\n",
       "      <td>1</td>\n",
       "      <td>2020-04-16</td>\n",
       "      <td>2020-04-16</td>\n",
       "      <td>2020-04-29</td>\n",
       "      <td>13</td>\n",
       "      <td>3.0</td>\n",
       "    </tr>\n",
       "    <tr>\n",
       "      <th>4</th>\n",
       "      <td>1.75E+56</td>\n",
       "      <td>2</td>\n",
       "      <td>2</td>\n",
       "      <td>2</td>\n",
       "      <td>63</td>\n",
       "      <td>2</td>\n",
       "      <td>2</td>\n",
       "      <td>2</td>\n",
       "      <td>2</td>\n",
       "      <td>2</td>\n",
       "      <td>...</td>\n",
       "      <td>2</td>\n",
       "      <td>3</td>\n",
       "      <td>1</td>\n",
       "      <td>2</td>\n",
       "      <td>0</td>\n",
       "      <td>2020-04-22</td>\n",
       "      <td>2020-04-13</td>\n",
       "      <td>2020-06-29</td>\n",
       "      <td>77</td>\n",
       "      <td>4.0</td>\n",
       "    </tr>\n",
       "  </tbody>\n",
       "</table>\n",
       "<p>5 rows × 25 columns</p>\n",
       "</div>"
      ],
      "text/plain": [
       "         id  sex  intubed  pneumonia  age  pregnancy  diabetes  copd  asthma  \\\n",
       "0    167386    1        2          2   54          2         2     2       2   \n",
       "1    0b5948    2        2          1   30          2         2     2       2   \n",
       "2    0d01b5    1        2          2   60          2         1     2       2   \n",
       "3    1beec8    2        2          1   47          2         1     2       2   \n",
       "4  1.75E+56    2        2          2   63          2         2     2       2   \n",
       "\n",
       "   inmsupr  ...  tobacco  contact_other_covid  covid_res  icu  DEATH  \\\n",
       "0        2  ...        2                    3          1    2      0   \n",
       "1        2  ...        2                    3          1    2      0   \n",
       "2        2  ...        2                    3          1    2      1   \n",
       "3        2  ...        2                    3          1    1      1   \n",
       "4        2  ...        2                    3          1    2      0   \n",
       "\n",
       "        d_ent       d_sym      d_last  diff_days  age_grp  \n",
       "0  2020-04-06  2020-04-01  2020-06-29         89      3.0  \n",
       "1  2020-04-17  2020-04-10  2020-06-29         80      2.0  \n",
       "2  2020-04-13  2020-04-13  2020-04-22          9      4.0  \n",
       "3  2020-04-16  2020-04-16  2020-04-29         13      3.0  \n",
       "4  2020-04-22  2020-04-13  2020-06-29         77      4.0  \n",
       "\n",
       "[5 rows x 25 columns]"
      ]
     },
     "execution_count": 3,
     "metadata": {},
     "output_type": "execute_result"
    }
   ],
   "source": [
    "d_final.head()"
   ]
  },
  {
   "cell_type": "code",
   "execution_count": 4,
   "metadata": {},
   "outputs": [],
   "source": [
    "# 정규화할 변수만 d_normal0에 저장\n",
    "d_normal0 = d_final.loc[:, ['sex', 'intubed', 'pneumonia', 'age_grp', 'pregnancy', 'diabetes', 'copd', 'asthma', 'inmsupr',\n",
    "                            'hypertension', 'other_disease', 'obesity', 'cardiovascular', 'renal_chronic', \n",
    "                            'tobacco', 'contact_other_covid', 'covid_res', 'icu']]\n",
    "\n",
    "# y(종속변수)는 정규화 하지않고 따로 저장\n",
    "d_y = d_final.loc[:, ['DEATH', 'diff_days']]"
   ]
  },
  {
   "cell_type": "code",
   "execution_count": 5,
   "metadata": {},
   "outputs": [
    {
     "data": {
      "text/plain": [
       "array([[0.        , 0.01020408, 0.5       , ..., 1.        , 0.        ,\n",
       "        0.5       ],\n",
       "       [1.        , 0.01020408, 0.        , ..., 1.        , 0.        ,\n",
       "        0.5       ],\n",
       "       [0.        , 0.01020408, 0.5       , ..., 1.        , 0.        ,\n",
       "        0.5       ],\n",
       "       ...,\n",
       "       [1.        , 0.        , 0.        , ..., 0.5       , 1.        ,\n",
       "        0.        ],\n",
       "       [0.        , 0.01020408, 0.        , ..., 1.        , 1.        ,\n",
       "        0.5       ],\n",
       "       [0.        , 0.01020408, 0.        , ..., 1.        , 1.        ,\n",
       "        0.5       ]])"
      ]
     },
     "execution_count": 5,
     "metadata": {},
     "output_type": "execute_result"
    }
   ],
   "source": [
    "# 정규화\n",
    "d_normal = MinMaxScaler(feature_range=(0,1)).fit_transform(d_normal0)\n",
    "d_normal"
   ]
  },
  {
   "cell_type": "markdown",
   "metadata": {},
   "source": [
    "#### Train, Test set 분리"
   ]
  },
  {
   "cell_type": "code",
   "execution_count": 6,
   "metadata": {},
   "outputs": [],
   "source": [
    "X_train, X_test, Y_train, Y_test = train_test_split(d_normal, d_y, test_size = 0.2, shuffle = True, random_state = 1004)"
   ]
  },
  {
   "cell_type": "code",
   "execution_count": 7,
   "metadata": {},
   "outputs": [
    {
     "name": "stdout",
     "output_type": "stream",
     "text": [
      "(97116, 18) \n",
      " (24279, 18) \n",
      " (97116, 2) \n",
      " (24279, 2)\n"
     ]
    }
   ],
   "source": [
    "print(X_train.shape[:],'\\n', X_test.shape[:], '\\n', Y_train.shape[:], '\\n', Y_test.shape[:])  "
   ]
  },
  {
   "cell_type": "markdown",
   "metadata": {},
   "source": [
    "#### Emsemble model - XGBoost\n",
    "- 모델 사용 이유 : kaggle 등에서 성능이 좋아서 최근 많이 쓰임\n",
    "- Gradient Boosting model 보다 계산 속도 빠름\n",
    "- 참고 : https://lsjsj92.tistory.com/547\n",
    "\n",
    "\n",
    "- 병렬 처리를 사용하기에 학습과 분류가 빠르다\n",
    "- 유연성이 좋다. 커스텀 최적화 옵션을 제공한다\n",
    "- 욕심쟁이(Greedy-algorithm)을 사용한 자동 가지치기가 가능하다. 과적합이 잘일어나지 않는다.\n",
    "- 다른 알고리즘과 연계하여 앙상블 학습이 가능하다."
   ]
  },
  {
   "cell_type": "markdown",
   "metadata": {},
   "source": [
    "##### XGBoost Hyper Parameter Tuning\n",
    "- Grid Search 방법으로 XGBoost Hyper Parameter Tuning함\n",
    "- https://m.blog.naver.com/PostView.nhn?blogId=gustn3964&logNo=221431933811&proxyReferer=https:%2F%2Fwww.google.com%2F\n",
    "- https://m.blog.naver.com/gustn3964/221431963819"
   ]
  },
  {
   "cell_type": "code",
   "execution_count": 8,
   "metadata": {},
   "outputs": [
    {
     "name": "stderr",
     "output_type": "stream",
     "text": [
      "C:\\ProgramData\\Anaconda3\\envs\\py37_tf2\\lib\\site-packages\\sklearn\\model_selection\\_split.py:297: FutureWarning: Setting a random_state has no effect since shuffle is False. This will raise an error in 0.24. You should leave random_state to its default (None), or set shuffle=True.\n",
      "  FutureWarning\n"
     ]
    }
   ],
   "source": [
    "# Model Building\n",
    "\n",
    "xgb = XGBClassifier()\n",
    "\n",
    "xgb_params_grid = {\n",
    "    'n_estimators' : [100, 200, 300, 400, 500], # 결정 트리 개수\n",
    "    'learning_rate' : [0.001, 0.01, 0.05, 0.10, 0.15, 0.2], # 학습률\n",
    "    'max_depth' : [4, 6, 8, 10 ,12], # 트리 깊이\n",
    "    'random_state' : [1004] # seed 설정\n",
    "}\n",
    "\n",
    "xgb_model = GridSearchCV(xgb, param_grid = xgb_params_grid, \n",
    "                        scoring = \"accuracy\", \n",
    "                        cv = KFold(5, random_state = 1004), # 5-fold CV 수행\n",
    "                        n_jobs = 4, # 병렬 처리 개수 : -1은 전부\n",
    "                        verbose = 1)\n",
    "\n"
   ]
  },
  {
   "cell_type": "code",
   "execution_count": 9,
   "metadata": {
    "scrolled": true
   },
   "outputs": [
    {
     "name": "stdout",
     "output_type": "stream",
     "text": [
      "Wall time: 0 ns\n",
      "Fitting 5 folds for each of 150 candidates, totalling 750 fits\n"
     ]
    },
    {
     "name": "stderr",
     "output_type": "stream",
     "text": [
      "[Parallel(n_jobs=4)]: Using backend LokyBackend with 4 concurrent workers.\n",
      "[Parallel(n_jobs=4)]: Done  42 tasks      | elapsed:  5.5min\n",
      "[Parallel(n_jobs=4)]: Done 192 tasks      | elapsed: 41.9min\n",
      "[Parallel(n_jobs=4)]: Done 442 tasks      | elapsed: 101.3min\n",
      "[Parallel(n_jobs=4)]: Done 750 out of 750 | elapsed: 174.1min finished\n"
     ]
    },
    {
     "data": {
      "text/plain": [
       "GridSearchCV(cv=KFold(n_splits=5, random_state=1004, shuffle=False),\n",
       "             estimator=XGBClassifier(base_score=None, booster=None,\n",
       "                                     colsample_bylevel=None,\n",
       "                                     colsample_bynode=None,\n",
       "                                     colsample_bytree=None, gamma=None,\n",
       "                                     gpu_id=None, importance_type='gain',\n",
       "                                     interaction_constraints=None,\n",
       "                                     learning_rate=None, max_delta_step=None,\n",
       "                                     max_depth=None, min_child_weight=None,\n",
       "                                     missing=nan, m...\n",
       "                                     num_parallel_tree=None, random_state=None,\n",
       "                                     reg_alpha=None, reg_lambda=None,\n",
       "                                     scale_pos_weight=None, subsample=None,\n",
       "                                     tree_method=None, validate_parameters=None,\n",
       "                                     verbosity=None),\n",
       "             n_jobs=4,\n",
       "             param_grid={'learning_rate': [0.001, 0.01, 0.05, 0.1, 0.15, 0.2],\n",
       "                         'max_depth': [4, 6, 8, 10, 12],\n",
       "                         'n_estimators': [100, 200, 300, 400, 500],\n",
       "                         'random_state': [1004]},\n",
       "             scoring='accuracy', verbose=1)"
      ]
     },
     "execution_count": 9,
     "metadata": {},
     "output_type": "execute_result"
    }
   ],
   "source": [
    "# Model Learning\n",
    "%time\n",
    "Y_train1 = Y_train.loc[:, \"DEATH\"]\n",
    "xgb_model.fit(X_train, Y_train1)"
   ]
  },
  {
   "cell_type": "code",
   "execution_count": 10,
   "metadata": {},
   "outputs": [
    {
     "name": "stdout",
     "output_type": "stream",
     "text": [
      "Best parameters (5-fold CV, gird search):  {'learning_rate': 0.01, 'max_depth': 6, 'n_estimators': 500, 'random_state': 1004}\n",
      "Best accuracy (5-fold CV, gird search):  0.7758144593643587\n"
     ]
    }
   ],
   "source": [
    "# 최적 parameter 확인\n",
    "print(\"Best parameters (5-fold CV, gird search): \" , xgb_model.best_params_)\n",
    "print(\"Best accuracy (5-fold CV, gird search): \" , xgb_model.best_score_)"
   ]
  },
  {
   "cell_type": "code",
   "execution_count": 11,
   "metadata": {},
   "outputs": [],
   "source": [
    "cv_result_df = pd.DataFrame(xgb_model.cv_results_)\n",
    "cv_result_df.sort_values(by=['rank_test_score'], inplace=True)"
   ]
  },
  {
   "cell_type": "code",
   "execution_count": 12,
   "metadata": {},
   "outputs": [
    {
     "data": {
      "text/html": [
       "<div>\n",
       "<style scoped>\n",
       "    .dataframe tbody tr th:only-of-type {\n",
       "        vertical-align: middle;\n",
       "    }\n",
       "\n",
       "    .dataframe tbody tr th {\n",
       "        vertical-align: top;\n",
       "    }\n",
       "\n",
       "    .dataframe thead th {\n",
       "        text-align: right;\n",
       "    }\n",
       "</style>\n",
       "<table border=\"1\" class=\"dataframe\">\n",
       "  <thead>\n",
       "    <tr style=\"text-align: right;\">\n",
       "      <th></th>\n",
       "      <th>params</th>\n",
       "      <th>mean_test_score</th>\n",
       "      <th>rank_test_score</th>\n",
       "    </tr>\n",
       "  </thead>\n",
       "  <tbody>\n",
       "    <tr>\n",
       "      <th>34</th>\n",
       "      <td>{'learning_rate': 0.01, 'max_depth': 6, 'n_est...</td>\n",
       "      <td>0.775814</td>\n",
       "      <td>1</td>\n",
       "    </tr>\n",
       "    <tr>\n",
       "      <th>55</th>\n",
       "      <td>{'learning_rate': 0.05, 'max_depth': 6, 'n_est...</td>\n",
       "      <td>0.775670</td>\n",
       "      <td>2</td>\n",
       "    </tr>\n",
       "    <tr>\n",
       "      <th>125</th>\n",
       "      <td>{'learning_rate': 0.2, 'max_depth': 4, 'n_esti...</td>\n",
       "      <td>0.775598</td>\n",
       "      <td>3</td>\n",
       "    </tr>\n",
       "    <tr>\n",
       "      <th>75</th>\n",
       "      <td>{'learning_rate': 0.1, 'max_depth': 4, 'n_esti...</td>\n",
       "      <td>0.775578</td>\n",
       "      <td>4</td>\n",
       "    </tr>\n",
       "    <tr>\n",
       "      <th>51</th>\n",
       "      <td>{'learning_rate': 0.05, 'max_depth': 4, 'n_est...</td>\n",
       "      <td>0.775578</td>\n",
       "      <td>5</td>\n",
       "    </tr>\n",
       "  </tbody>\n",
       "</table>\n",
       "</div>"
      ],
      "text/plain": [
       "                                                params  mean_test_score  \\\n",
       "34   {'learning_rate': 0.01, 'max_depth': 6, 'n_est...         0.775814   \n",
       "55   {'learning_rate': 0.05, 'max_depth': 6, 'n_est...         0.775670   \n",
       "125  {'learning_rate': 0.2, 'max_depth': 4, 'n_esti...         0.775598   \n",
       "75   {'learning_rate': 0.1, 'max_depth': 4, 'n_esti...         0.775578   \n",
       "51   {'learning_rate': 0.05, 'max_depth': 4, 'n_est...         0.775578   \n",
       "\n",
       "     rank_test_score  \n",
       "34                 1  \n",
       "55                 2  \n",
       "125                3  \n",
       "75                 4  \n",
       "51                 5  "
      ]
     },
     "execution_count": 12,
     "metadata": {},
     "output_type": "execute_result"
    }
   ],
   "source": [
    "cv_result_df[['params', 'mean_test_score', 'rank_test_score']].head()"
   ]
  },
  {
   "cell_type": "code",
   "execution_count": 13,
   "metadata": {},
   "outputs": [
    {
     "data": {
      "text/plain": [
       "array([1, 0, 0, ..., 1, 0, 0], dtype=int64)"
      ]
     },
     "execution_count": 13,
     "metadata": {},
     "output_type": "execute_result"
    }
   ],
   "source": [
    "# 최적 parameter로 xgboost 모델 생성 및 예측\n",
    "xgb_best = xgb_model.best_estimator_\n",
    "Y_pred = xgb_best.predict(X_test) ; Y_pred # 예측값"
   ]
  },
  {
   "cell_type": "code",
   "execution_count": 14,
   "metadata": {},
   "outputs": [
    {
     "data": {
      "text/plain": [
       "'\\n#### 시간없을때는 여기 돌리기! \\nY_test1 = Y_test.loc[:, \"DEATH\"] # True 값\\n\\nxgb_best = XGBClassifier(max_dept = 4, n_estimators = 300, \\n                    objective=\\'binary:logistic\\', \\n                    random_state = 1004,\\n                    learning_rate = 0.05)\\nxgb_best.fit(X_test,Y_test1)\\nY_pred = xgb_best.predict(X_test)\\n'"
      ]
     },
     "execution_count": 14,
     "metadata": {},
     "output_type": "execute_result"
    }
   ],
   "source": [
    "\"\"\"\n",
    "#### 시간없을때는 여기 돌리기! \n",
    "Y_test1 = Y_test.loc[:, \"DEATH\"] # True 값\n",
    "\n",
    "xgb_best = XGBClassifier(max_dept = 4, n_estimators = 300, \n",
    "                    objective='binary:logistic', \n",
    "                    random_state = 1004,\n",
    "                    learning_rate = 0.05)\n",
    "xgb_best.fit(X_test,Y_test1)\n",
    "Y_pred = xgb_best.predict(X_test)\n",
    "\"\"\""
   ]
  },
  {
   "cell_type": "code",
   "execution_count": 15,
   "metadata": {},
   "outputs": [
    {
     "data": {
      "text/plain": [
       "XGBClassifier(base_score=0.5, booster='gbtree', colsample_bylevel=1,\n",
       "              colsample_bynode=1, colsample_bytree=1, gamma=0, gpu_id=-1,\n",
       "              importance_type='gain', interaction_constraints='',\n",
       "              learning_rate=0.01, max_delta_step=0, max_depth=6,\n",
       "              min_child_weight=1, missing=nan, monotone_constraints='()',\n",
       "              n_estimators=500, n_jobs=0, num_parallel_tree=1,\n",
       "              random_state=1004, reg_alpha=0, reg_lambda=1, scale_pos_weight=1,\n",
       "              subsample=1, tree_method='exact', validate_parameters=1,\n",
       "              verbosity=None)"
      ]
     },
     "execution_count": 15,
     "metadata": {},
     "output_type": "execute_result"
    }
   ],
   "source": [
    "xgb_best"
   ]
  },
  {
   "cell_type": "markdown",
   "metadata": {},
   "source": [
    "### Test set 성능 평가\n",
    "- Test set에서의 결과 평가\n",
    "- 개념설명은 https://bcho.tistory.com/1206 참고\n",
    "- https://datascienceschool.net/view-notebook/731e0d2ef52c41c686ba53dcaf346f32/"
   ]
  },
  {
   "cell_type": "code",
   "execution_count": 16,
   "metadata": {},
   "outputs": [],
   "source": [
    "Y_test1 = Y_test.loc[:, \"DEATH\"] # True 값"
   ]
  },
  {
   "cell_type": "code",
   "execution_count": 17,
   "metadata": {},
   "outputs": [
    {
     "name": "stdout",
     "output_type": "stream",
     "text": [
      "accuracy : 0.770\n",
      "recall : 0.325\n",
      "f1_score : 0.430\n"
     ]
    }
   ],
   "source": [
    "print('accuracy : %.3f' % accuracy_score(y_true = Y_test1, y_pred=Y_pred))\n",
    "print('recall : %.3f' % recall_score(y_true = Y_test1, y_pred=Y_pred))\n",
    "print('f1_score : %.3f' % f1_score(y_true = Y_test1, y_pred=Y_pred))"
   ]
  },
  {
   "cell_type": "markdown",
   "metadata": {},
   "source": [
    "#### ROC curve 작성"
   ]
  },
  {
   "cell_type": "code",
   "execution_count": 18,
   "metadata": {},
   "outputs": [
    {
     "data": {
      "text/plain": [
       "(array([0.        , 0.        , 0.        , ..., 0.99971866, 0.9998312 ,\n",
       "        1.        ]),\n",
       " array([0.00000000e+00, 1.53680652e-04, 9.22083910e-04, ...,\n",
       "        1.00000000e+00, 1.00000000e+00, 1.00000000e+00]),\n",
       " array([1.845489  , 0.845489  , 0.8282882 , ..., 0.00722309, 0.00679332,\n",
       "        0.0066817 ], dtype=float32))"
      ]
     },
     "execution_count": 18,
     "metadata": {},
     "output_type": "execute_result"
    }
   ],
   "source": [
    "f_value = xgb_best.fit(X_test,Y_test1).predict_proba(X_test) # 분류 확률\n",
    "\n",
    "fpr, tpr, thresholds = roc_curve(Y_test1, f_value[:,1])\n",
    "fpr, tpr, thresholds"
   ]
  },
  {
   "cell_type": "code",
   "execution_count": 19,
   "metadata": {},
   "outputs": [
    {
     "data": {
      "image/png": "[encoded data removed]",
      "text/plain": [
       "<Figure size 432x288 with 1 Axes>"
      ]
     },
     "metadata": {
      "needs_background": "light"
     },
     "output_type": "display_data"
    }
   ],
   "source": [
    "plt.plot(fpr, tpr, 'o-', label=\"Xgboost (AUC=%0.3f)\")\n",
    "plt.plot([0, 1], [0, 1], 'k--', label=\"random guess\")\n",
    "plt.xlabel('Talse positive rate')\n",
    "plt.ylabel('True positive rate')\n",
    "plt.title('Classification - Xgboost')\n",
    "plt.show()"
   ]
  },
  {
   "cell_type": "code",
   "execution_count": 20,
   "metadata": {
    "scrolled": true
   },
   "outputs": [
    {
     "name": "stdout",
     "output_type": "stream",
     "text": [
      "AUC : 0.794\n"
     ]
    }
   ],
   "source": [
    "print('AUC : %.3f' % auc(fpr, tpr))"
   ]
  },
  {
   "cell_type": "markdown",
   "metadata": {},
   "source": [
    "#### TPR, FPR export (나중에 그래프 그릴 때 쓰게)"
   ]
  },
  {
   "cell_type": "code",
   "execution_count": 21,
   "metadata": {},
   "outputs": [],
   "source": [
    "d_tpr = pd.DataFrame({'tpr':tpr} )\n",
    "d_fpr = pd.DataFrame({'fpr':fpr} )"
   ]
  },
  {
   "cell_type": "code",
   "execution_count": 22,
   "metadata": {},
   "outputs": [
    {
     "data": {
      "text/html": [
       "<div>\n",
       "<style scoped>\n",
       "    .dataframe tbody tr th:only-of-type {\n",
       "        vertical-align: middle;\n",
       "    }\n",
       "\n",
       "    .dataframe tbody tr th {\n",
       "        vertical-align: top;\n",
       "    }\n",
       "\n",
       "    .dataframe thead th {\n",
       "        text-align: right;\n",
       "    }\n",
       "</style>\n",
       "<table border=\"1\" class=\"dataframe\">\n",
       "  <thead>\n",
       "    <tr style=\"text-align: right;\">\n",
       "      <th></th>\n",
       "      <th>tpr</th>\n",
       "      <th>fpr</th>\n",
       "    </tr>\n",
       "  </thead>\n",
       "  <tbody>\n",
       "    <tr>\n",
       "      <th>0</th>\n",
       "      <td>0.000000</td>\n",
       "      <td>0.000000</td>\n",
       "    </tr>\n",
       "    <tr>\n",
       "      <th>1</th>\n",
       "      <td>0.000154</td>\n",
       "      <td>0.000000</td>\n",
       "    </tr>\n",
       "    <tr>\n",
       "      <th>2</th>\n",
       "      <td>0.000922</td>\n",
       "      <td>0.000000</td>\n",
       "    </tr>\n",
       "    <tr>\n",
       "      <th>3</th>\n",
       "      <td>0.001076</td>\n",
       "      <td>0.000056</td>\n",
       "    </tr>\n",
       "    <tr>\n",
       "      <th>4</th>\n",
       "      <td>0.001537</td>\n",
       "      <td>0.000056</td>\n",
       "    </tr>\n",
       "    <tr>\n",
       "      <th>...</th>\n",
       "      <td>...</td>\n",
       "      <td>...</td>\n",
       "    </tr>\n",
       "    <tr>\n",
       "      <th>4003</th>\n",
       "      <td>1.000000</td>\n",
       "      <td>0.999437</td>\n",
       "    </tr>\n",
       "    <tr>\n",
       "      <th>4004</th>\n",
       "      <td>1.000000</td>\n",
       "      <td>0.999550</td>\n",
       "    </tr>\n",
       "    <tr>\n",
       "      <th>4005</th>\n",
       "      <td>1.000000</td>\n",
       "      <td>0.999719</td>\n",
       "    </tr>\n",
       "    <tr>\n",
       "      <th>4006</th>\n",
       "      <td>1.000000</td>\n",
       "      <td>0.999831</td>\n",
       "    </tr>\n",
       "    <tr>\n",
       "      <th>4007</th>\n",
       "      <td>1.000000</td>\n",
       "      <td>1.000000</td>\n",
       "    </tr>\n",
       "  </tbody>\n",
       "</table>\n",
       "<p>4008 rows × 2 columns</p>\n",
       "</div>"
      ],
      "text/plain": [
       "           tpr       fpr\n",
       "0     0.000000  0.000000\n",
       "1     0.000154  0.000000\n",
       "2     0.000922  0.000000\n",
       "3     0.001076  0.000056\n",
       "4     0.001537  0.000056\n",
       "...        ...       ...\n",
       "4003  1.000000  0.999437\n",
       "4004  1.000000  0.999550\n",
       "4005  1.000000  0.999719\n",
       "4006  1.000000  0.999831\n",
       "4007  1.000000  1.000000\n",
       "\n",
       "[4008 rows x 2 columns]"
      ]
     },
     "execution_count": 22,
     "metadata": {},
     "output_type": "execute_result"
    }
   ],
   "source": [
    "clf_xgboost = pd.concat([d_tpr, d_fpr], axis = 1)\n",
    "clf_xgboost"
   ]
  },
  {
   "cell_type": "code",
   "execution_count": 25,
   "metadata": {},
   "outputs": [],
   "source": [
    "clf_xgboost.to_csv('C://Users//KIM MIN JEONG//Desktop//Final_PJT//clf_xgboost.csv', encoding='utf-8', index=False, line_terminator='\\n')"
   ]
  },
  {
   "cell_type": "markdown",
   "metadata": {},
   "source": [
    "#### Feature importance plot"
   ]
  },
  {
   "cell_type": "code",
   "execution_count": 26,
   "metadata": {},
   "outputs": [
    {
     "name": "stdout",
     "output_type": "stream",
     "text": [
      "특성 중요도 : \n",
      "[0.02215929 0.17049594 0.10173026 0.19385614 0.01675049 0.02379435\n",
      " 0.01565268 0.01738089 0.01255902 0.01983114 0.01074052 0.0163811\n",
      " 0.01225248 0.03043971 0.0137642  0.08718984 0.22387715 0.01114484]\n"
     ]
    }
   ],
   "source": [
    "print(\"특성 중요도 : \\n{}\".format(xgb_best.feature_importances_))"
   ]
  },
  {
   "cell_type": "code",
   "execution_count": 27,
   "metadata": {},
   "outputs": [
    {
     "data": {
      "image/png": "[encoded data removed]",
      "text/plain": [
       "<Figure size 432x288 with 1 Axes>"
      ]
     },
     "metadata": {
      "needs_background": "light"
     },
     "output_type": "display_data"
    }
   ],
   "source": [
    "# 특성 중요도 시각화 하기\n",
    "\n",
    "\n",
    "def plot_feature_importances_df(model):\n",
    "    n_features = X_test.shape[1]\n",
    "    plt.barh(range(n_features), model.feature_importances_, align='center')\n",
    "    plt.yticks(np.arange(n_features), ['sex', 'intubed', 'pneumonia', 'age_grp', 'pregnancy', 'diabetes',\n",
    "                                       'copd', 'asthma', 'inmsupr', 'hypertension', 'other_disease', 'obesity',\n",
    "                                       'cardiovascular', 'renal_chronic', 'tobacco', 'contact_other_covid', 'covid_res', 'icu'])\n",
    "    plt.xlabel(\"Importances\")\n",
    "    plt.ylabel(\"Feature\")\n",
    "    plt.title(\"Classification - Xgboost\")\n",
    "    plt.ylim(-1, n_features)\n",
    "plt.show()\n",
    "\n",
    "plot_feature_importances_df(xgb_best)"
   ]
  },
  {
   "cell_type": "code",
   "execution_count": null,
   "metadata": {},
   "outputs": [],
   "source": []
  }
 ],
 "metadata": {
  "kernelspec": {
   "display_name": "Python 3",
   "language": "python",
   "name": "python3"
  },
  "language_info": {
   "codemirror_mode": {
    "name": "ipython",
    "version": 3
   },
   "file_extension": ".py",
   "mimetype": "text/x-python",
   "name": "python",
   "nbconvert_exporter": "python",
   "pygments_lexer": "ipython3",
   "version": "3.7.9"
  }
 },
 "nbformat": 4,
 "nbformat_minor": 4
}
