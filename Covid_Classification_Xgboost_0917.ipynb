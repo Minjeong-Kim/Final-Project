{
 "cells": [
  {
   "cell_type": "code",
   "execution_count": 147,
   "metadata": {},
   "outputs": [],
   "source": [
    "import pandas as pd\n",
    "import numpy as np\n",
    "import matplotlib.pyplot as plt\n",
    "%matplotlib inline\n",
    "from datetime import datetime, timedelta\n",
    "import seaborn as sns\n",
    "\n",
    "from sklearn.preprocessing import MinMaxScaler\n",
    "from sklearn.model_selection import train_test_split, GridSearchCV, KFold\n",
    "from sklearn.metrics import roc_curve, precision_score, recall_score, f1_score, accuracy_score, auc\n",
    "from xgboost import plot_importance\n",
    "from xgboost import XGBClassifier\n"
   ]
  },
  {
   "cell_type": "markdown",
   "metadata": {},
   "source": [
    "### Data Modeling"
   ]
  },
  {
   "cell_type": "markdown",
   "metadata": {},
   "source": [
    "#### Normalization : MinMaxScaler"
   ]
  },
  {
   "cell_type": "code",
   "execution_count": 2,
   "metadata": {},
   "outputs": [],
   "source": [
    "d_final = pd.read_csv('d_final.csv', encoding = 'utf-8')"
   ]
  },
  {
   "cell_type": "code",
   "execution_count": 3,
   "metadata": {},
   "outputs": [
    {
     "data": {
      "text/html": [
       "<div>\n",
       "<style scoped>\n",
       "    .dataframe tbody tr th:only-of-type {\n",
       "        vertical-align: middle;\n",
       "    }\n",
       "\n",
       "    .dataframe tbody tr th {\n",
       "        vertical-align: top;\n",
       "    }\n",
       "\n",
       "    .dataframe thead th {\n",
       "        text-align: right;\n",
       "    }\n",
       "</style>\n",
       "<table border=\"1\" class=\"dataframe\">\n",
       "  <thead>\n",
       "    <tr style=\"text-align: right;\">\n",
       "      <th></th>\n",
       "      <th>id</th>\n",
       "      <th>sex</th>\n",
       "      <th>intubed</th>\n",
       "      <th>pneumonia</th>\n",
       "      <th>age</th>\n",
       "      <th>pregnancy</th>\n",
       "      <th>diabetes</th>\n",
       "      <th>copd</th>\n",
       "      <th>asthma</th>\n",
       "      <th>inmsupr</th>\n",
       "      <th>...</th>\n",
       "      <th>tobacco</th>\n",
       "      <th>contact_other_covid</th>\n",
       "      <th>covid_res</th>\n",
       "      <th>icu</th>\n",
       "      <th>DEATH</th>\n",
       "      <th>d_ent</th>\n",
       "      <th>d_sym</th>\n",
       "      <th>d_last</th>\n",
       "      <th>diff_days</th>\n",
       "      <th>age_grp</th>\n",
       "    </tr>\n",
       "  </thead>\n",
       "  <tbody>\n",
       "    <tr>\n",
       "      <th>0</th>\n",
       "      <td>167386</td>\n",
       "      <td>1</td>\n",
       "      <td>2</td>\n",
       "      <td>2</td>\n",
       "      <td>54</td>\n",
       "      <td>2</td>\n",
       "      <td>2</td>\n",
       "      <td>2</td>\n",
       "      <td>2</td>\n",
       "      <td>2</td>\n",
       "      <td>...</td>\n",
       "      <td>2</td>\n",
       "      <td>3</td>\n",
       "      <td>1</td>\n",
       "      <td>2</td>\n",
       "      <td>0</td>\n",
       "      <td>2020-04-06</td>\n",
       "      <td>2020-04-01</td>\n",
       "      <td>2020-06-29</td>\n",
       "      <td>89</td>\n",
       "      <td>3.0</td>\n",
       "    </tr>\n",
       "    <tr>\n",
       "      <th>1</th>\n",
       "      <td>0b5948</td>\n",
       "      <td>2</td>\n",
       "      <td>2</td>\n",
       "      <td>1</td>\n",
       "      <td>30</td>\n",
       "      <td>2</td>\n",
       "      <td>2</td>\n",
       "      <td>2</td>\n",
       "      <td>2</td>\n",
       "      <td>2</td>\n",
       "      <td>...</td>\n",
       "      <td>2</td>\n",
       "      <td>3</td>\n",
       "      <td>1</td>\n",
       "      <td>2</td>\n",
       "      <td>0</td>\n",
       "      <td>2020-04-17</td>\n",
       "      <td>2020-04-10</td>\n",
       "      <td>2020-06-29</td>\n",
       "      <td>80</td>\n",
       "      <td>2.0</td>\n",
       "    </tr>\n",
       "    <tr>\n",
       "      <th>2</th>\n",
       "      <td>0d01b5</td>\n",
       "      <td>1</td>\n",
       "      <td>2</td>\n",
       "      <td>2</td>\n",
       "      <td>60</td>\n",
       "      <td>2</td>\n",
       "      <td>1</td>\n",
       "      <td>2</td>\n",
       "      <td>2</td>\n",
       "      <td>2</td>\n",
       "      <td>...</td>\n",
       "      <td>2</td>\n",
       "      <td>3</td>\n",
       "      <td>1</td>\n",
       "      <td>2</td>\n",
       "      <td>1</td>\n",
       "      <td>2020-04-13</td>\n",
       "      <td>2020-04-13</td>\n",
       "      <td>2020-04-22</td>\n",
       "      <td>9</td>\n",
       "      <td>4.0</td>\n",
       "    </tr>\n",
       "    <tr>\n",
       "      <th>3</th>\n",
       "      <td>1beec8</td>\n",
       "      <td>2</td>\n",
       "      <td>2</td>\n",
       "      <td>1</td>\n",
       "      <td>47</td>\n",
       "      <td>2</td>\n",
       "      <td>1</td>\n",
       "      <td>2</td>\n",
       "      <td>2</td>\n",
       "      <td>2</td>\n",
       "      <td>...</td>\n",
       "      <td>2</td>\n",
       "      <td>3</td>\n",
       "      <td>1</td>\n",
       "      <td>1</td>\n",
       "      <td>1</td>\n",
       "      <td>2020-04-16</td>\n",
       "      <td>2020-04-16</td>\n",
       "      <td>2020-04-29</td>\n",
       "      <td>13</td>\n",
       "      <td>3.0</td>\n",
       "    </tr>\n",
       "    <tr>\n",
       "      <th>4</th>\n",
       "      <td>1.75E+56</td>\n",
       "      <td>2</td>\n",
       "      <td>2</td>\n",
       "      <td>2</td>\n",
       "      <td>63</td>\n",
       "      <td>2</td>\n",
       "      <td>2</td>\n",
       "      <td>2</td>\n",
       "      <td>2</td>\n",
       "      <td>2</td>\n",
       "      <td>...</td>\n",
       "      <td>2</td>\n",
       "      <td>3</td>\n",
       "      <td>1</td>\n",
       "      <td>2</td>\n",
       "      <td>0</td>\n",
       "      <td>2020-04-22</td>\n",
       "      <td>2020-04-13</td>\n",
       "      <td>2020-06-29</td>\n",
       "      <td>77</td>\n",
       "      <td>4.0</td>\n",
       "    </tr>\n",
       "  </tbody>\n",
       "</table>\n",
       "<p>5 rows × 25 columns</p>\n",
       "</div>"
      ],
      "text/plain": [
       "         id  sex  intubed  pneumonia  age  pregnancy  diabetes  copd  asthma  \\\n",
       "0    167386    1        2          2   54          2         2     2       2   \n",
       "1    0b5948    2        2          1   30          2         2     2       2   \n",
       "2    0d01b5    1        2          2   60          2         1     2       2   \n",
       "3    1beec8    2        2          1   47          2         1     2       2   \n",
       "4  1.75E+56    2        2          2   63          2         2     2       2   \n",
       "\n",
       "   inmsupr  ...  tobacco  contact_other_covid  covid_res  icu  DEATH  \\\n",
       "0        2  ...        2                    3          1    2      0   \n",
       "1        2  ...        2                    3          1    2      0   \n",
       "2        2  ...        2                    3          1    2      1   \n",
       "3        2  ...        2                    3          1    1      1   \n",
       "4        2  ...        2                    3          1    2      0   \n",
       "\n",
       "        d_ent       d_sym      d_last  diff_days  age_grp  \n",
       "0  2020-04-06  2020-04-01  2020-06-29         89      3.0  \n",
       "1  2020-04-17  2020-04-10  2020-06-29         80      2.0  \n",
       "2  2020-04-13  2020-04-13  2020-04-22          9      4.0  \n",
       "3  2020-04-16  2020-04-16  2020-04-29         13      3.0  \n",
       "4  2020-04-22  2020-04-13  2020-06-29         77      4.0  \n",
       "\n",
       "[5 rows x 25 columns]"
      ]
     },
     "execution_count": 3,
     "metadata": {},
     "output_type": "execute_result"
    }
   ],
   "source": [
    "d_final.head()"
   ]
  },
  {
   "cell_type": "code",
   "execution_count": 4,
   "metadata": {},
   "outputs": [],
   "source": [
    "# 정규화할 변수만 d_normal0에 저장\n",
    "d_normal0 = d_final.loc[:, ['sex', 'intubed', 'pneumonia', 'age_grp', 'pregnancy', 'diabetes', 'copd', 'asthma', 'inmsupr',\n",
    "                            'hypertension', 'other_disease', 'obesity', 'cardiovascular', 'renal_chronic', \n",
    "                            'tobacco', 'contact_other_covid', 'covid_res', 'icu']]\n",
    "\n",
    "# y(종속변수)는 정규화 하지않고 따로 저장\n",
    "d_y = d_final.loc[:, ['DEATH', 'diff_days']]"
   ]
  },
  {
   "cell_type": "code",
   "execution_count": 5,
   "metadata": {},
   "outputs": [
    {
     "data": {
      "text/plain": [
       "array([[0.        , 0.01020408, 0.5       , ..., 1.        , 0.        ,\n",
       "        0.5       ],\n",
       "       [1.        , 0.01020408, 0.        , ..., 1.        , 0.        ,\n",
       "        0.5       ],\n",
       "       [0.        , 0.01020408, 0.5       , ..., 1.        , 0.        ,\n",
       "        0.5       ],\n",
       "       ...,\n",
       "       [1.        , 0.        , 0.        , ..., 0.5       , 1.        ,\n",
       "        0.        ],\n",
       "       [0.        , 0.01020408, 0.        , ..., 1.        , 1.        ,\n",
       "        0.5       ],\n",
       "       [0.        , 0.01020408, 0.        , ..., 1.        , 1.        ,\n",
       "        0.5       ]])"
      ]
     },
     "execution_count": 5,
     "metadata": {},
     "output_type": "execute_result"
    }
   ],
   "source": [
    "# 정규화\n",
    "d_normal = MinMaxScaler(feature_range=(0,1)).fit_transform(d_normal0)\n",
    "d_normal"
   ]
  },
  {
   "cell_type": "markdown",
   "metadata": {},
   "source": [
    "#### Train, Test set 분리"
   ]
  },
  {
   "cell_type": "code",
   "execution_count": 6,
   "metadata": {},
   "outputs": [],
   "source": [
    "X_train, X_test, Y_train, Y_test = train_test_split(d_normal, d_y, shuffle = True, random_state = 1004)"
   ]
  },
  {
   "cell_type": "code",
   "execution_count": 7,
   "metadata": {},
   "outputs": [
    {
     "name": "stdout",
     "output_type": "stream",
     "text": [
      "(91046, 18) \n",
      " (30349, 18) \n",
      " (91046, 2) \n",
      " (30349, 2)\n"
     ]
    }
   ],
   "source": [
    "print(X_train.shape[:],'\\n', X_test.shape[:], '\\n', Y_train.shape[:], '\\n', Y_test.shape[:])  "
   ]
  },
  {
   "cell_type": "markdown",
   "metadata": {},
   "source": [
    "#### Emsemble model - XGBoost\n",
    "- 모델 사용 이유 : kaggle 등에서 성능이 좋아서 최근 많이 쓰임\n",
    "- Gradient Boosting model 보다 계산 속도 빠름\n",
    "- 참고 : https://lsjsj92.tistory.com/547"
   ]
  },
  {
   "cell_type": "markdown",
   "metadata": {},
   "source": [
    "##### XGBoost Hyper Parameter Tuning\n",
    "- Grid Search 방법으로 XGBoost Hyper Parameter Tuning함\n",
    "- https://m.blog.naver.com/PostView.nhn?blogId=gustn3964&logNo=221431933811&proxyReferer=https:%2F%2Fwww.google.com%2F\n",
    "- https://m.blog.naver.com/gustn3964/221431963819"
   ]
  },
  {
   "cell_type": "code",
   "execution_count": 19,
   "metadata": {},
   "outputs": [
    {
     "name": "stderr",
     "output_type": "stream",
     "text": [
      "C:\\ProgramData\\Anaconda3\\envs\\py37_tf2\\lib\\site-packages\\sklearn\\model_selection\\_split.py:297: FutureWarning: Setting a random_state has no effect since shuffle is False. This will raise an error in 0.24. You should leave random_state to its default (None), or set shuffle=True.\n",
      "  FutureWarning\n"
     ]
    }
   ],
   "source": [
    "# Model Building\n",
    "\n",
    "xgb = XGBClassifier()\n",
    "\n",
    "xgb_params_grid = {\n",
    "    'n_estimators' : [100, 200, 300, 400, 500], # 결정 트리 개수\n",
    "    'learning_rate' : [0.001, 0.01, 0.05, 0.10, 0.15, 0.2], # 학습률\n",
    "    'max_depth' : [4, 6, 8, 10 ,12], # 트리 깊이\n",
    "    'random_state' : [1004] # seed 설정\n",
    "}\n",
    "\n",
    "xgb_model = GridSearchCV(xgb, param_grid = xgb_params_grid, \n",
    "                        scoring = \"accuracy\", \n",
    "                        cv = KFold(5, random_state = 1004), # 5-fold CV 수행\n",
    "                        n_jobs = -1, # 병렬 처리 개수 : -1은 전부\n",
    "                        verbose = 1)\n",
    "\n"
   ]
  },
  {
   "cell_type": "code",
   "execution_count": 20,
   "metadata": {
    "scrolled": true
   },
   "outputs": [
    {
     "name": "stdout",
     "output_type": "stream",
     "text": [
      "Wall time: 0 ns\n",
      "Fitting 5 folds for each of 150 candidates, totalling 750 fits\n"
     ]
    },
    {
     "name": "stderr",
     "output_type": "stream",
     "text": [
      "[Parallel(n_jobs=-1)]: Using backend LokyBackend with 4 concurrent workers.\n",
      "[Parallel(n_jobs=-1)]: Done  42 tasks      | elapsed:  5.8min\n",
      "[Parallel(n_jobs=-1)]: Done 192 tasks      | elapsed: 45.9min\n",
      "[Parallel(n_jobs=-1)]: Done 442 tasks      | elapsed: 104.2min\n",
      "[Parallel(n_jobs=-1)]: Done 750 out of 750 | elapsed: 171.1min finished\n"
     ]
    },
    {
     "data": {
      "text/plain": [
       "GridSearchCV(cv=KFold(n_splits=5, random_state=1004, shuffle=False),\n",
       "             estimator=XGBClassifier(base_score=None, booster=None,\n",
       "                                     colsample_bylevel=None,\n",
       "                                     colsample_bynode=None,\n",
       "                                     colsample_bytree=None, gamma=None,\n",
       "                                     gpu_id=None, importance_type='gain',\n",
       "                                     interaction_constraints=None,\n",
       "                                     learning_rate=None, max_delta_step=None,\n",
       "                                     max_depth=None, min_child_weight=None,\n",
       "                                     missing=nan, m...\n",
       "                                     num_parallel_tree=None, random_state=None,\n",
       "                                     reg_alpha=None, reg_lambda=None,\n",
       "                                     scale_pos_weight=None, subsample=None,\n",
       "                                     tree_method=None, validate_parameters=None,\n",
       "                                     verbosity=None),\n",
       "             n_jobs=-1,\n",
       "             param_grid={'learning_rate': [0.001, 0.01, 0.05, 0.1, 0.15, 0.2],\n",
       "                         'max_depth': [4, 6, 8, 10, 12],\n",
       "                         'n_estimators': [100, 200, 300, 400, 500],\n",
       "                         'random_state': [1004]},\n",
       "             scoring='accuracy', verbose=1)"
      ]
     },
     "execution_count": 20,
     "metadata": {},
     "output_type": "execute_result"
    }
   ],
   "source": [
    "# Model Learning\n",
    "%time\n",
    "Y_train1 = Y_train.loc[:, \"DEATH\"]\n",
    "xgb_model.fit(X_train, Y_train1)"
   ]
  },
  {
   "cell_type": "code",
   "execution_count": 21,
   "metadata": {},
   "outputs": [
    {
     "name": "stdout",
     "output_type": "stream",
     "text": [
      "Best parameters (5-fold CV, gird search):  {'learning_rate': 0.05, 'max_depth': 4, 'n_estimators': 300, 'random_state': 1004}\n",
      "Best accuracy (5-fold CV, gird search):  0.7755529537158532\n"
     ]
    }
   ],
   "source": [
    "# 최적 parameter 확인\n",
    "print(\"Best parameters (5-fold CV, gird search): \" , xgb_model.best_params_)\n",
    "print(\"Best accuracy (5-fold CV, gird search): \" , xgb_model.best_score_)"
   ]
  },
  {
   "cell_type": "code",
   "execution_count": 22,
   "metadata": {},
   "outputs": [],
   "source": [
    "cv_result_df = pd.DataFrame(xgb_model.cv_results_)\n",
    "cv_result_df.sort_values(by=['rank_test_score'], inplace=True)"
   ]
  },
  {
   "cell_type": "code",
   "execution_count": 23,
   "metadata": {},
   "outputs": [
    {
     "data": {
      "text/html": [
       "<div>\n",
       "<style scoped>\n",
       "    .dataframe tbody tr th:only-of-type {\n",
       "        vertical-align: middle;\n",
       "    }\n",
       "\n",
       "    .dataframe tbody tr th {\n",
       "        vertical-align: top;\n",
       "    }\n",
       "\n",
       "    .dataframe thead th {\n",
       "        text-align: right;\n",
       "    }\n",
       "</style>\n",
       "<table border=\"1\" class=\"dataframe\">\n",
       "  <thead>\n",
       "    <tr style=\"text-align: right;\">\n",
       "      <th></th>\n",
       "      <th>params</th>\n",
       "      <th>mean_test_score</th>\n",
       "      <th>rank_test_score</th>\n",
       "    </tr>\n",
       "  </thead>\n",
       "  <tbody>\n",
       "    <tr>\n",
       "      <th>52</th>\n",
       "      <td>{'learning_rate': 0.05, 'max_depth': 4, 'n_est...</td>\n",
       "      <td>0.775553</td>\n",
       "      <td>1</td>\n",
       "    </tr>\n",
       "    <tr>\n",
       "      <th>76</th>\n",
       "      <td>{'learning_rate': 0.1, 'max_depth': 4, 'n_esti...</td>\n",
       "      <td>0.775531</td>\n",
       "      <td>2</td>\n",
       "    </tr>\n",
       "    <tr>\n",
       "      <th>77</th>\n",
       "      <td>{'learning_rate': 0.1, 'max_depth': 4, 'n_esti...</td>\n",
       "      <td>0.775509</td>\n",
       "      <td>3</td>\n",
       "    </tr>\n",
       "    <tr>\n",
       "      <th>53</th>\n",
       "      <td>{'learning_rate': 0.05, 'max_depth': 4, 'n_est...</td>\n",
       "      <td>0.775465</td>\n",
       "      <td>4</td>\n",
       "    </tr>\n",
       "    <tr>\n",
       "      <th>51</th>\n",
       "      <td>{'learning_rate': 0.05, 'max_depth': 4, 'n_est...</td>\n",
       "      <td>0.775443</td>\n",
       "      <td>5</td>\n",
       "    </tr>\n",
       "  </tbody>\n",
       "</table>\n",
       "</div>"
      ],
      "text/plain": [
       "                                               params  mean_test_score  \\\n",
       "52  {'learning_rate': 0.05, 'max_depth': 4, 'n_est...         0.775553   \n",
       "76  {'learning_rate': 0.1, 'max_depth': 4, 'n_esti...         0.775531   \n",
       "77  {'learning_rate': 0.1, 'max_depth': 4, 'n_esti...         0.775509   \n",
       "53  {'learning_rate': 0.05, 'max_depth': 4, 'n_est...         0.775465   \n",
       "51  {'learning_rate': 0.05, 'max_depth': 4, 'n_est...         0.775443   \n",
       "\n",
       "    rank_test_score  \n",
       "52                1  \n",
       "76                2  \n",
       "77                3  \n",
       "53                4  \n",
       "51                5  "
      ]
     },
     "execution_count": 23,
     "metadata": {},
     "output_type": "execute_result"
    }
   ],
   "source": [
    "cv_result_df[['params', 'mean_test_score', 'rank_test_score']].head()"
   ]
  },
  {
   "cell_type": "code",
   "execution_count": 129,
   "metadata": {},
   "outputs": [
    {
     "data": {
      "text/plain": [
       "array([1, 0, 0, ..., 0, 0, 0], dtype=int64)"
      ]
     },
     "execution_count": 129,
     "metadata": {},
     "output_type": "execute_result"
    }
   ],
   "source": [
    "# 최적 parameter로 xgboost 모델 생성 및 예측\n",
    "xgb_best = xgb_model.best_estimator_\n",
    "Y_pred = xgb_best.predict(X_test) ; Y_pred # 예측값"
   ]
  },
  {
   "cell_type": "markdown",
   "metadata": {},
   "source": [
    "### Test set 성능 평가\n",
    "- Test set에서의 결과 평가\n",
    "- 개념설명은 https://bcho.tistory.com/1206 참고\n",
    "- https://datascienceschool.net/view-notebook/731e0d2ef52c41c686ba53dcaf346f32/"
   ]
  },
  {
   "cell_type": "code",
   "execution_count": 144,
   "metadata": {},
   "outputs": [],
   "source": [
    "Y_test1 = Y_test.loc[:, \"DEATH\"] # True 값"
   ]
  },
  {
   "cell_type": "code",
   "execution_count": 145,
   "metadata": {},
   "outputs": [
    {
     "name": "stdout",
     "output_type": "stream",
     "text": [
      "accuracy : 0.776\n",
      "recall : 0.364\n",
      "f1_score : 0.464\n"
     ]
    }
   ],
   "source": [
    "print('accuracy : %.3f' % accuracy_score(y_true = Y_test1, y_pred=Y_pred))\n",
    "print('recall : %.3f' % recall_score(y_true = Y_test1, y_pred=Y_pred))\n",
    "print('f1_score : %.3f' % f1_score(y_true = Y_test1, y_pred=Y_pred))"
   ]
  },
  {
   "cell_type": "markdown",
   "metadata": {},
   "source": [
    "#### ROC curve 작성"
   ]
  },
  {
   "cell_type": "code",
   "execution_count": 130,
   "metadata": {},
   "outputs": [
    {
     "data": {
      "text/plain": [
       "(array([0.        , 0.        , 0.        , ..., 0.9998652 , 0.99995507,\n",
       "        1.        ]),\n",
       " array([0.00000000e+00, 1.23563573e-04, 4.94254294e-04, ...,\n",
       "        1.00000000e+00, 1.00000000e+00, 1.00000000e+00]),\n",
       " array([1.9220507 , 0.9220507 , 0.8805111 , ..., 0.00356295, 0.00331689,\n",
       "        0.00220519], dtype=float32))"
      ]
     },
     "execution_count": 130,
     "metadata": {},
     "output_type": "execute_result"
    }
   ],
   "source": [
    "f_value = xgb_best.fit(X_test,Y_test1).predict_proba(X_test) # 분류 확률\n",
    "\n",
    "fpr, tpr, thresholds = roc_curve(Y_test1, f_value[:,1])\n",
    "fpr, tpr, thresholds"
   ]
  },
  {
   "cell_type": "code",
   "execution_count": 138,
   "metadata": {},
   "outputs": [
    {
     "data": {
      "image/png": "[encoded data removed]",
      "text/plain": [
       "<Figure size 432x288 with 1 Axes>"
      ]
     },
     "metadata": {
      "needs_background": "light"
     },
     "output_type": "display_data"
    }
   ],
   "source": [
    "plt.plot(fpr, tpr, 'o-', label=\"Xgboost (AUC=%0.3f)\")\n",
    "plt.plot([0, 1], [0, 1], 'k--', label=\"random guess\")\n",
    "plt.xlabel('Talse positive rate')\n",
    "plt.ylabel('True positive rate')\n",
    "plt.title('Classification - Xgboost Model')\n",
    "plt.show()"
   ]
  },
  {
   "cell_type": "code",
   "execution_count": 149,
   "metadata": {},
   "outputs": [
    {
     "name": "stdout",
     "output_type": "stream",
     "text": [
      "AUC : 0.790\n"
     ]
    }
   ],
   "source": [
    "print('AUC : %.3f' % auc(fpr, tpr))"
   ]
  },
  {
   "cell_type": "code",
   "execution_count": null,
   "metadata": {},
   "outputs": [],
   "source": []
  },
  {
   "cell_type": "code",
   "execution_count": null,
   "metadata": {},
   "outputs": [],
   "source": []
  }
 ],
 "metadata": {
  "kernelspec": {
   "display_name": "Python 3",
   "language": "python",
   "name": "python3"
  },
  "language_info": {
   "codemirror_mode": {
    "name": "ipython",
    "version": 3
   },
   "file_extension": ".py",
   "mimetype": "text/x-python",
   "name": "python",
   "nbconvert_exporter": "python",
   "pygments_lexer": "ipython3",
   "version": "3.7.9"
  }
 },
 "nbformat": 4,
 "nbformat_minor": 4
}
