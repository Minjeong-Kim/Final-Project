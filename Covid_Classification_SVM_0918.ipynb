{
 "cells": [
  {
   "cell_type": "code",
   "execution_count": 1,
   "metadata": {},
   "outputs": [],
   "source": [
    "import pandas as pd\n",
    "import numpy as np\n",
    "import matplotlib.pyplot as plt\n",
    "%matplotlib inline\n",
    "from datetime import datetime, timedelta\n",
    "import seaborn as sns\n",
    "\n",
    "from sklearn.preprocessing import MinMaxScaler\n",
    "import sklearn.svm as svm\n",
    "from sklearn.model_selection import GridSearchCV, KFold, train_test_split, cross_val_score, cross_validate\n",
    "from sklearn.metrics import roc_curve, precision_score, recall_score, f1_score, accuracy_score, auc"
   ]
  },
  {
   "cell_type": "markdown",
   "metadata": {},
   "source": [
    "### Data Modeling"
   ]
  },
  {
   "cell_type": "markdown",
   "metadata": {},
   "source": [
    "#### Normalization : MinMaxScaler"
   ]
  },
  {
   "cell_type": "code",
   "execution_count": 2,
   "metadata": {},
   "outputs": [],
   "source": [
    "d_final = pd.read_csv('d_final.csv', encoding = 'utf-8')"
   ]
  },
  {
   "cell_type": "code",
   "execution_count": 3,
   "metadata": {},
   "outputs": [
    {
     "data": {
      "text/html": [
       "<div>\n",
       "<style scoped>\n",
       "    .dataframe tbody tr th:only-of-type {\n",
       "        vertical-align: middle;\n",
       "    }\n",
       "\n",
       "    .dataframe tbody tr th {\n",
       "        vertical-align: top;\n",
       "    }\n",
       "\n",
       "    .dataframe thead th {\n",
       "        text-align: right;\n",
       "    }\n",
       "</style>\n",
       "<table border=\"1\" class=\"dataframe\">\n",
       "  <thead>\n",
       "    <tr style=\"text-align: right;\">\n",
       "      <th></th>\n",
       "      <th>id</th>\n",
       "      <th>sex</th>\n",
       "      <th>intubed</th>\n",
       "      <th>pneumonia</th>\n",
       "      <th>age</th>\n",
       "      <th>pregnancy</th>\n",
       "      <th>diabetes</th>\n",
       "      <th>copd</th>\n",
       "      <th>asthma</th>\n",
       "      <th>inmsupr</th>\n",
       "      <th>...</th>\n",
       "      <th>tobacco</th>\n",
       "      <th>contact_other_covid</th>\n",
       "      <th>covid_res</th>\n",
       "      <th>icu</th>\n",
       "      <th>DEATH</th>\n",
       "      <th>d_ent</th>\n",
       "      <th>d_sym</th>\n",
       "      <th>d_last</th>\n",
       "      <th>diff_days</th>\n",
       "      <th>age_grp</th>\n",
       "    </tr>\n",
       "  </thead>\n",
       "  <tbody>\n",
       "    <tr>\n",
       "      <th>0</th>\n",
       "      <td>167386</td>\n",
       "      <td>1</td>\n",
       "      <td>2</td>\n",
       "      <td>2</td>\n",
       "      <td>54</td>\n",
       "      <td>2</td>\n",
       "      <td>2</td>\n",
       "      <td>2</td>\n",
       "      <td>2</td>\n",
       "      <td>2</td>\n",
       "      <td>...</td>\n",
       "      <td>2</td>\n",
       "      <td>3</td>\n",
       "      <td>1</td>\n",
       "      <td>2</td>\n",
       "      <td>0</td>\n",
       "      <td>2020-04-06</td>\n",
       "      <td>2020-04-01</td>\n",
       "      <td>2020-06-29</td>\n",
       "      <td>89</td>\n",
       "      <td>3.0</td>\n",
       "    </tr>\n",
       "    <tr>\n",
       "      <th>1</th>\n",
       "      <td>0b5948</td>\n",
       "      <td>2</td>\n",
       "      <td>2</td>\n",
       "      <td>1</td>\n",
       "      <td>30</td>\n",
       "      <td>2</td>\n",
       "      <td>2</td>\n",
       "      <td>2</td>\n",
       "      <td>2</td>\n",
       "      <td>2</td>\n",
       "      <td>...</td>\n",
       "      <td>2</td>\n",
       "      <td>3</td>\n",
       "      <td>1</td>\n",
       "      <td>2</td>\n",
       "      <td>0</td>\n",
       "      <td>2020-04-17</td>\n",
       "      <td>2020-04-10</td>\n",
       "      <td>2020-06-29</td>\n",
       "      <td>80</td>\n",
       "      <td>2.0</td>\n",
       "    </tr>\n",
       "    <tr>\n",
       "      <th>2</th>\n",
       "      <td>0d01b5</td>\n",
       "      <td>1</td>\n",
       "      <td>2</td>\n",
       "      <td>2</td>\n",
       "      <td>60</td>\n",
       "      <td>2</td>\n",
       "      <td>1</td>\n",
       "      <td>2</td>\n",
       "      <td>2</td>\n",
       "      <td>2</td>\n",
       "      <td>...</td>\n",
       "      <td>2</td>\n",
       "      <td>3</td>\n",
       "      <td>1</td>\n",
       "      <td>2</td>\n",
       "      <td>1</td>\n",
       "      <td>2020-04-13</td>\n",
       "      <td>2020-04-13</td>\n",
       "      <td>2020-04-22</td>\n",
       "      <td>9</td>\n",
       "      <td>4.0</td>\n",
       "    </tr>\n",
       "    <tr>\n",
       "      <th>3</th>\n",
       "      <td>1beec8</td>\n",
       "      <td>2</td>\n",
       "      <td>2</td>\n",
       "      <td>1</td>\n",
       "      <td>47</td>\n",
       "      <td>2</td>\n",
       "      <td>1</td>\n",
       "      <td>2</td>\n",
       "      <td>2</td>\n",
       "      <td>2</td>\n",
       "      <td>...</td>\n",
       "      <td>2</td>\n",
       "      <td>3</td>\n",
       "      <td>1</td>\n",
       "      <td>1</td>\n",
       "      <td>1</td>\n",
       "      <td>2020-04-16</td>\n",
       "      <td>2020-04-16</td>\n",
       "      <td>2020-04-29</td>\n",
       "      <td>13</td>\n",
       "      <td>3.0</td>\n",
       "    </tr>\n",
       "    <tr>\n",
       "      <th>4</th>\n",
       "      <td>1.75E+56</td>\n",
       "      <td>2</td>\n",
       "      <td>2</td>\n",
       "      <td>2</td>\n",
       "      <td>63</td>\n",
       "      <td>2</td>\n",
       "      <td>2</td>\n",
       "      <td>2</td>\n",
       "      <td>2</td>\n",
       "      <td>2</td>\n",
       "      <td>...</td>\n",
       "      <td>2</td>\n",
       "      <td>3</td>\n",
       "      <td>1</td>\n",
       "      <td>2</td>\n",
       "      <td>0</td>\n",
       "      <td>2020-04-22</td>\n",
       "      <td>2020-04-13</td>\n",
       "      <td>2020-06-29</td>\n",
       "      <td>77</td>\n",
       "      <td>4.0</td>\n",
       "    </tr>\n",
       "  </tbody>\n",
       "</table>\n",
       "<p>5 rows × 25 columns</p>\n",
       "</div>"
      ],
      "text/plain": [
       "         id  sex  intubed  pneumonia  age  pregnancy  diabetes  copd  asthma  \\\n",
       "0    167386    1        2          2   54          2         2     2       2   \n",
       "1    0b5948    2        2          1   30          2         2     2       2   \n",
       "2    0d01b5    1        2          2   60          2         1     2       2   \n",
       "3    1beec8    2        2          1   47          2         1     2       2   \n",
       "4  1.75E+56    2        2          2   63          2         2     2       2   \n",
       "\n",
       "   inmsupr  ...  tobacco  contact_other_covid  covid_res  icu  DEATH  \\\n",
       "0        2  ...        2                    3          1    2      0   \n",
       "1        2  ...        2                    3          1    2      0   \n",
       "2        2  ...        2                    3          1    2      1   \n",
       "3        2  ...        2                    3          1    1      1   \n",
       "4        2  ...        2                    3          1    2      0   \n",
       "\n",
       "        d_ent       d_sym      d_last  diff_days  age_grp  \n",
       "0  2020-04-06  2020-04-01  2020-06-29         89      3.0  \n",
       "1  2020-04-17  2020-04-10  2020-06-29         80      2.0  \n",
       "2  2020-04-13  2020-04-13  2020-04-22          9      4.0  \n",
       "3  2020-04-16  2020-04-16  2020-04-29         13      3.0  \n",
       "4  2020-04-22  2020-04-13  2020-06-29         77      4.0  \n",
       "\n",
       "[5 rows x 25 columns]"
      ]
     },
     "execution_count": 3,
     "metadata": {},
     "output_type": "execute_result"
    }
   ],
   "source": [
    "d_final.head()"
   ]
  },
  {
   "cell_type": "code",
   "execution_count": 4,
   "metadata": {},
   "outputs": [],
   "source": [
    "# 정규화할 변수만 d_normal0에 저장\n",
    "d_normal0 = d_final.loc[:, ['sex', 'intubed', 'pneumonia', 'age_grp', 'pregnancy', 'diabetes', 'copd', 'asthma', 'inmsupr',\n",
    "                            'hypertension', 'other_disease', 'obesity', 'cardiovascular', 'renal_chronic', \n",
    "                            'tobacco', 'contact_other_covid', 'covid_res', 'icu']]\n",
    "\n",
    "# y(종속변수)는 정규화 하지않고 따로 저장\n",
    "d_y = d_final.loc[:, ['DEATH', 'diff_days']]"
   ]
  },
  {
   "cell_type": "code",
   "execution_count": 5,
   "metadata": {},
   "outputs": [
    {
     "data": {
      "text/plain": [
       "array([[0.        , 0.01020408, 0.5       , ..., 1.        , 0.        ,\n",
       "        0.5       ],\n",
       "       [1.        , 0.01020408, 0.        , ..., 1.        , 0.        ,\n",
       "        0.5       ],\n",
       "       [0.        , 0.01020408, 0.5       , ..., 1.        , 0.        ,\n",
       "        0.5       ],\n",
       "       ...,\n",
       "       [1.        , 0.        , 0.        , ..., 0.5       , 1.        ,\n",
       "        0.        ],\n",
       "       [0.        , 0.01020408, 0.        , ..., 1.        , 1.        ,\n",
       "        0.5       ],\n",
       "       [0.        , 0.01020408, 0.        , ..., 1.        , 1.        ,\n",
       "        0.5       ]])"
      ]
     },
     "execution_count": 5,
     "metadata": {},
     "output_type": "execute_result"
    }
   ],
   "source": [
    "# 정규화\n",
    "d_normal = MinMaxScaler(feature_range=(0,1)).fit_transform(d_normal0)\n",
    "d_normal"
   ]
  },
  {
   "cell_type": "markdown",
   "metadata": {},
   "source": [
    "#### Train, Test set 분리"
   ]
  },
  {
   "cell_type": "code",
   "execution_count": 6,
   "metadata": {},
   "outputs": [],
   "source": [
    "X_train, X_test, Y_train, Y_test = train_test_split(d_normal, d_y, shuffle = True, test_size=0.2, random_state = 1004)"
   ]
  },
  {
   "cell_type": "code",
   "execution_count": 7,
   "metadata": {},
   "outputs": [
    {
     "name": "stdout",
     "output_type": "stream",
     "text": [
      "(97116, 18) \n",
      " (24279, 18) \n",
      " (97116, 2) \n",
      " (24279, 2)\n"
     ]
    }
   ],
   "source": [
    "print(X_train.shape[:],'\\n', X_test.shape[:], '\\n', Y_train.shape[:], '\\n', Y_test.shape[:])  "
   ]
  },
  {
   "cell_type": "code",
   "execution_count": 8,
   "metadata": {},
   "outputs": [],
   "source": [
    "Y_train1 = Y_train.loc[:, \"DEATH\"]"
   ]
  },
  {
   "cell_type": "markdown",
   "metadata": {},
   "source": [
    "### Support Vector Machine"
   ]
  },
  {
   "cell_type": "markdown",
   "metadata": {},
   "source": [
    "#### SVM Hyper Parameter Tuning\n",
    "- 선형/비선형 커널 중 어떤것이 나을지는 3-fold CV로 결정\n",
    "- GridSerchCV로 파라미터 결정\n",
    "- 코드참고 https://blog.naver.com/PostView.nhn?blogId=winddori2002&logNo=221667083964\n",
    "\n",
    "##### 1) Linear, Non-linear kernel (3-fold CV)"
   ]
  },
  {
   "cell_type": "code",
   "execution_count": 9,
   "metadata": {},
   "outputs": [
    {
     "data": {
      "text/plain": [
       "'# Linear kernel\\nY_train1 = Y_train.loc[:, \"DEATH\"]\\nSVM =svm.SVC(kernel = \\'linear\\') # 선형분리 커널 '"
      ]
     },
     "execution_count": 9,
     "metadata": {},
     "output_type": "execute_result"
    }
   ],
   "source": [
    "\"\"\"# Linear kernel\n",
    "Y_train1 = Y_train.loc[:, \"DEATH\"]\n",
    "SVM =svm.SVC(kernel = 'linear') # 선형분리 커널 \"\"\""
   ]
  },
  {
   "cell_type": "code",
   "execution_count": 10,
   "metadata": {
    "scrolled": true
   },
   "outputs": [
    {
     "data": {
      "text/plain": [
       "'# CV1 (linear)\\nscores = cross_val_score(SVM, X_train, Y_train1, cv = KFold(3, random_state=1004, shuffle=True))\\nscores '"
      ]
     },
     "execution_count": 10,
     "metadata": {},
     "output_type": "execute_result"
    }
   ],
   "source": [
    "\"\"\"# CV1 (linear)\n",
    "scores = cross_val_score(SVM, X_train, Y_train1, cv = KFold(3, random_state=1004, shuffle=True))\n",
    "scores \"\"\""
   ]
  },
  {
   "cell_type": "code",
   "execution_count": 11,
   "metadata": {},
   "outputs": [
    {
     "data": {
      "text/plain": [
       "\"pd.DataFrame(cross_validate(SVM, X_train, Y_train1, cv = KFold(3, random_state=1004, shuffle=True)))\\nprint('교차검증 평균: ', scores.mean())\""
      ]
     },
     "execution_count": 11,
     "metadata": {},
     "output_type": "execute_result"
    }
   ],
   "source": [
    "\"\"\"pd.DataFrame(cross_validate(SVM, X_train, Y_train1, cv = KFold(3, random_state=1004, shuffle=True)))\n",
    "print('교차검증 평균: ', scores.mean())\"\"\""
   ]
  },
  {
   "cell_type": "code",
   "execution_count": 12,
   "metadata": {},
   "outputs": [
    {
     "data": {
      "text/plain": [
       "\"# Non-Linear Kernel\\nSVM =svm.SVC(kernel = 'rbf')\""
      ]
     },
     "execution_count": 12,
     "metadata": {},
     "output_type": "execute_result"
    }
   ],
   "source": [
    "\"\"\"# Non-Linear Kernel\n",
    "SVM =svm.SVC(kernel = 'rbf')\"\"\""
   ]
  },
  {
   "cell_type": "code",
   "execution_count": 13,
   "metadata": {},
   "outputs": [
    {
     "data": {
      "text/plain": [
       "'# CV2 (NonLinear)\\nscores = cross_val_score(SVM, X_train, Y_train1, cv = KFold(3, random_state=1004, shuffle=True))\\nscores '"
      ]
     },
     "execution_count": 13,
     "metadata": {},
     "output_type": "execute_result"
    }
   ],
   "source": [
    "\"\"\"# CV2 (NonLinear)\n",
    "scores = cross_val_score(SVM, X_train, Y_train1, cv = KFold(3, random_state=1004, shuffle=True))\n",
    "scores \"\"\""
   ]
  },
  {
   "cell_type": "code",
   "execution_count": 14,
   "metadata": {},
   "outputs": [
    {
     "data": {
      "text/plain": [
       "\"pd.DataFrame(cross_validate(SVM, X_train, Y_train1, cv = KFold(3, random_state=1004, shuffle=True)))\\nprint('교차검증 평균: ', scores.mean())0\""
      ]
     },
     "execution_count": 14,
     "metadata": {},
     "output_type": "execute_result"
    }
   ],
   "source": [
    "\"\"\"pd.DataFrame(cross_validate(SVM, X_train, Y_train1, cv = KFold(3, random_state=1004, shuffle=True)))\n",
    "print('교차검증 평균: ', scores.mean())0\"\"\""
   ]
  },
  {
   "cell_type": "markdown",
   "metadata": {},
   "source": [
    "##### 2) Hyperparameter Tuning (GridSerchCV) -- Non-Linear로 하기!"
   ]
  },
  {
   "cell_type": "code",
   "execution_count": 15,
   "metadata": {},
   "outputs": [],
   "source": [
    "svm_model = svm.SVC(kernel = 'rbf', probability=True, random_state=1004)\n",
    "parameters = {'C' : [0.01, 0.1, 1, 10, 25, 50, 100],\n",
    "             'gamma' : [0.01, 0.1, 1, 10, 25, 50, 100]}"
   ]
  },
  {
   "cell_type": "code",
   "execution_count": 16,
   "metadata": {},
   "outputs": [],
   "source": [
    "grid_svm = GridSearchCV(svm_model, \n",
    "                       param_grid = parameters,\n",
    "                       cv = KFold(3, random_state = 1004, shuffle=True),\n",
    "                       n_jobs = 4)"
   ]
  },
  {
   "cell_type": "code",
   "execution_count": null,
   "metadata": {},
   "outputs": [],
   "source": [
    "grid_svm.fit(X_train, Y_train1)"
   ]
  },
  {
   "cell_type": "code",
   "execution_count": null,
   "metadata": {},
   "outputs": [],
   "source": [
    "# 최적 parameter 확인\n",
    "print(\"Best parameters (5-fold CV, gird search): \" , grid_svm.best_params_)\n",
    "print(\"Best accuracy (5-fold CV, gird search): \" , grid_svm.best_score_)"
   ]
  },
  {
   "cell_type": "code",
   "execution_count": null,
   "metadata": {},
   "outputs": [],
   "source": [
    "cv_result_df = pd.DataFrame(grid_svm.cv_results_)\n",
    "cv_result_df.sort_values(by=['rank_test_score'], inplace=True)"
   ]
  },
  {
   "cell_type": "code",
   "execution_count": null,
   "metadata": {},
   "outputs": [],
   "source": [
    "cv_result_df[['params', 'mean_test_score', 'rank_test_score']].head()"
   ]
  },
  {
   "cell_type": "code",
   "execution_count": null,
   "metadata": {},
   "outputs": [],
   "source": [
    "# 최적 parameter로 SVM 모델 생성 및 예측\n",
    "svm_best = grid_svm.best_estimator_\n",
    "Y_pred = grid_svm.predict(X_test) ; Y_pred # 예측값"
   ]
  },
  {
   "cell_type": "code",
   "execution_count": null,
   "metadata": {},
   "outputs": [],
   "source": [
    "svm_best"
   ]
  },
  {
   "cell_type": "markdown",
   "metadata": {},
   "source": [
    "#### Test set 성능 평가\n",
    "- test set에서의 결과 평가"
   ]
  },
  {
   "cell_type": "code",
   "execution_count": null,
   "metadata": {},
   "outputs": [],
   "source": [
    "Y_test1 = Y_test.loc[:, \"DEATH\"] # True 값 "
   ]
  },
  {
   "cell_type": "code",
   "execution_count": null,
   "metadata": {},
   "outputs": [],
   "source": [
    "print('accuracy : %.3f' % accuracy_score(y_true = Y_test1, y_pred=Y_pred))\n",
    "print('recall : %.3f' % recall_score(y_true = Y_test1, y_pred=Y_pred))\n",
    "print('f1_score : %.3f' % f1_score(y_true = Y_test1, y_pred=Y_pred))"
   ]
  },
  {
   "cell_type": "markdown",
   "metadata": {},
   "source": [
    "#### ROC curve 작성"
   ]
  },
  {
   "cell_type": "code",
   "execution_count": null,
   "metadata": {},
   "outputs": [],
   "source": [
    "f_value = svm_best.fit(X_test,Y_test1).predict_proba(X_test) # 분류 확률\n",
    "fpr, tpr, thresholds = roc_curve(Y_test1, f_value[:,1])\n",
    "fpr, tpr, thresholds"
   ]
  },
  {
   "cell_type": "code",
   "execution_count": null,
   "metadata": {},
   "outputs": [],
   "source": [
    "plt.plot(fpr, tpr, 'o-', label=\"Xgboost (AUC=%0.3f)\")\n",
    "plt.plot([0, 1], [0, 1], 'k--', label=\"random guess\")\n",
    "plt.xlabel('Talse positive rate')\n",
    "plt.ylabel('True positive rate')\n",
    "plt.title('Classification - Support Vector Machine')\n",
    "plt.show()"
   ]
  },
  {
   "cell_type": "code",
   "execution_count": null,
   "metadata": {},
   "outputs": [],
   "source": [
    "plt.plot(fpr, tpr, 'o-', label=\"SVM (AUC=%0.3f)\")\n",
    "plt.plot([0, 1], [0, 1], 'k--', label=\"random guess\")\n",
    "plt.xlabel('Talse positive rate')\n",
    "plt.ylabel('True positive rate')\n",
    "plt.title('Classification - Support Vector Machine')\n",
    "plt.show()\n"
   ]
  },
  {
   "cell_type": "code",
   "execution_count": null,
   "metadata": {},
   "outputs": [],
   "source": [
    "print('AUC : %.3f' % auc(fpr, tpr))"
   ]
  },
  {
   "cell_type": "markdown",
   "metadata": {},
   "source": [
    "#### TPR, FPR export (나중에 그래프 그릴 때 쓰게)"
   ]
  },
  {
   "cell_type": "code",
   "execution_count": null,
   "metadata": {},
   "outputs": [],
   "source": [
    "d_tpr = pd.DataFrame({'tpr':tpr} )\n",
    "d_fpr = pd.DataFrame({'fpr':fpr} )"
   ]
  },
  {
   "cell_type": "code",
   "execution_count": null,
   "metadata": {},
   "outputs": [],
   "source": [
    "clf_svm = pd.concat([d_tpr, d_fpr], axis = 1)\n",
    "clf_svm"
   ]
  },
  {
   "cell_type": "code",
   "execution_count": null,
   "metadata": {},
   "outputs": [],
   "source": [
    "clf_svm.to_csv('C://workspaces//AI//Final_PJT//final pjt//clf_svm.csv', encoding='utf-8', index=False, line_terminator='\\n')"
   ]
  },
  {
   "cell_type": "markdown",
   "metadata": {},
   "source": [
    "#### Feature importance plot"
   ]
  },
  {
   "cell_type": "code",
   "execution_count": null,
   "metadata": {},
   "outputs": [],
   "source": [
    "print(\"특성 중요도 : \\n{}\".format(svm_best.feature_importances_))"
   ]
  },
  {
   "cell_type": "code",
   "execution_count": null,
   "metadata": {},
   "outputs": [],
   "source": [
    "# 특성 중요도 시각화 하기\n",
    "\n",
    "\n",
    "def plot_feature_importances_df(model):\n",
    "    n_features = X_test.shape[1]\n",
    "    plt.barh(range(n_features), model.feature_importances_, align='center')\n",
    "    plt.yticks(np.arange(n_features), ['sex', 'intubed', 'pneumonia', 'age_grp', 'pregnancy', 'diabetes',\n",
    "                                       'copd', 'asthma', 'inmsupr', 'hypertension', 'other_disease', 'obesity',\n",
    "                                       'cardiovascular', 'renal_chronic', 'tobacco', 'contact_other_covid', 'covid_res', 'icu'])\n",
    "    plt.xlabel(\"Importances\")\n",
    "    plt.ylabel(\"Feature\")\n",
    "    plt.title(\"Classification - Support Vector Machine\")\n",
    "    plt.ylim(-1, n_features)\n",
    "plt.show()\n",
    "\n",
    "plot_feature_importances_df(svm_best)"
   ]
  },
  {
   "cell_type": "code",
   "execution_count": null,
   "metadata": {},
   "outputs": [],
   "source": []
  }
 ],
 "metadata": {
  "kernelspec": {
   "display_name": "Python 3",
   "language": "python",
   "name": "python3"
  },
  "language_info": {
   "codemirror_mode": {
    "name": "ipython",
    "version": 3
   },
   "file_extension": ".py",
   "mimetype": "text/x-python",
   "name": "python",
   "nbconvert_exporter": "python",
   "pygments_lexer": "ipython3",
   "version": "3.7.9"
  }
 },
 "nbformat": 4,
 "nbformat_minor": 4
}
